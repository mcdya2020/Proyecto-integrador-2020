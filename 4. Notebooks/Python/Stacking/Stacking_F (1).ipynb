{
 "cells": [
  {
   "cell_type": "markdown",
   "metadata": {
    "colab_type": "text",
    "id": "TbyZaHySIiud"
   },
   "source": [
    "# MODELO DE STACKING\n"
   ]
  },
  {
   "cell_type": "markdown",
   "metadata": {
    "colab_type": "text",
    "id": "oMT_dKIHIoog"
   },
   "source": [
    "## 1. CARGA DE DATOS"
   ]
  },
  {
   "cell_type": "code",
   "execution_count": 1,
   "metadata": {
    "colab": {
     "base_uri": "https://localhost:8080/",
     "height": 52
    },
    "colab_type": "code",
    "id": "ebaECFAh2Hre",
    "outputId": "7b56f340-7aad-4682-9a21-3893b675ebcc"
   },
   "outputs": [
    {
     "name": "stderr",
     "output_type": "stream",
     "text": [
      "/usr/local/lib/python3.6/dist-packages/statsmodels/tools/_testing.py:19: FutureWarning: pandas.util.testing is deprecated. Use the functions in the public API at pandas.testing instead.\n",
      "  import pandas.util.testing as tm\n"
     ]
    }
   ],
   "source": [
    "#Importacion de librerías necesarias\n",
    "import pandas as pd\n",
    "import numpy as np\n",
    "import matplotlib.pyplot as plt\n",
    "import seaborn as sns\n",
    "from sklearn.metrics import mean_squared_error, r2_score\n",
    "from sklearn.preprocessing import LabelEncoder\n",
    "from google.colab import files"
   ]
  },
  {
   "cell_type": "code",
   "execution_count": 0,
   "metadata": {
    "colab": {},
    "colab_type": "code",
    "id": "nVHZuAsZ2Z09"
   },
   "outputs": [],
   "source": [
    "from google.colab import drive\n",
    "drive.mount('/content/gdrive')"
   ]
  },
  {
   "cell_type": "code",
   "execution_count": 0,
   "metadata": {
    "colab": {},
    "colab_type": "code",
    "id": "BaR4RXwT2b19"
   },
   "outputs": [],
   "source": [
    "# Carga de datos\n",
    "RL1 = pd.read_csv('/content/gdrive/My Drive/Colab Notebooks/Proyecto Integrador/submission_RL.csv')\n",
    "RF = pd.read_csv('/content/gdrive/My Drive/Colab Notebooks/Proyecto Integrador/submission_RF.csv')\n",
    "LSTM = pd.read_csv('/content/gdrive/My Drive/Colab Notebooks/Proyecto Integrador/submission_RF.csv')\n",
    "submission = pd.read_csv('/content/gdrive/My Drive/Colab Notebooks/Proyecto Integrador/sample_submission.csv')\n",
    "\n",
    "\n",
    "# Valores de demanda reales\n",
    "y=pd.read_csv('/content/gdrive/My Drive/Colab Notebooks/Proyecto Integrador/sales_train_validation.csv')#Continene los datos historicos de la venta diaria de cada uno de los productos\n",
    "Startday = 1859 #equivale al primero de marzo\n",
    "y = y.drop(['item_id', 'dept_id', 'cat_id', 'store_id', 'state_id'], axis=1)\n",
    "y.drop(y.columns[1:Startday], axis=1, inplace=True)#1913-1853"
   ]
  },
  {
   "cell_type": "markdown",
   "metadata": {
    "colab_type": "text",
    "id": "ZtAuW79JI2By"
   },
   "source": [
    "## 2. AJUSTE EN ESTRUCTURA DE DATOS"
   ]
  },
  {
   "cell_type": "code",
   "execution_count": 0,
   "metadata": {
    "colab": {},
    "colab_type": "code",
    "id": "ZfR9585WH6_2"
   },
   "outputs": [],
   "source": [
    "# A continuación se definen los datos de entrenamiento, validación y testeo de cada uno de los modelos\n",
    "id=RF.iloc[:,0]\n",
    "\n",
    "RF_train = RF.iloc[:,0:32]\n",
    "RF_val = pd.concat([id, RF.iloc[:,33:55]], axis=1, sort=False)\n",
    "RF_Sub = pd.concat([id, RF.iloc[:,56:84]], axis=1, sort=False)\n",
    "\n",
    "RL1_train = RL1.iloc[:,0:32]\n",
    "RL1_val = pd.concat([id, RL1.iloc[:,33:55]], axis=1, sort=False)\n",
    "RL1_Sub = pd.concat([id, RL1.iloc[:,56:84]], axis=1, sort=False)\n",
    "\n",
    "LSTM_train = LSTM.iloc[:,0:32]\n",
    "LSTM_val = pd.concat([id, LSTM.iloc[:,33:55]], axis=1, sort=False)\n",
    "LSTM_Sub = pd.concat([id, LSTM.iloc[:,56:84]], axis=1, sort=False)\n",
    "\n",
    "y_train = y.iloc[:,0:32]\n",
    "y_val= pd.concat([id, y.iloc[:,33:55]], axis=1, sort=False)"
   ]
  },
  {
   "cell_type": "code",
   "execution_count": 0,
   "metadata": {
    "colab": {},
    "colab_type": "code",
    "id": "-8fERhXfqZYl"
   },
   "outputs": [],
   "source": [
    "# A continuación se separan los datos de validación de los de evaluación\n",
    "\n",
    "\n",
    "validation_rows_RF = [row for row in RF_train['id'] if 'validation' in row] \n",
    "RF_train = RF_train[RF_train['id'].isin(validation_rows_RF)]\n",
    "validation_rows_RL1 = [row for row in RL1_train['id'] if 'validation' in row] \n",
    "RL1_train = RL1_train[RL1_train['id'].isin(validation_rows_RL1)]\n",
    "validation_rows_LSTM = [row for row in LSTM_train['id'] if 'validation' in row] \n",
    "LSTM_train = LSTM_train[LSTM_train['id'].isin(validation_rows_LSTM)]\n",
    "\n",
    "\n",
    "validation_rows_RF = [row for row in RF_val['id'] if 'validation' in row] \n",
    "RF_val = RF_val[RF_val['id'].isin(validation_rows_RF)]\n",
    "validation_rows_RL1 = [row for row in RL1_val['id'] if 'validation' in row] \n",
    "RL1_val = RL1_val[RL1_val['id'].isin(validation_rows_RL1)]\n",
    "validation_rows_LSTM = [row for row in LSTM_val['id'] if 'validation' in row] \n",
    "LSTM_val = LSTM_val[LSTM_val['id'].isin(validation_rows_LSTM)]\n",
    "validation_rows_y = [row for row in y_val['id'] if 'validation' in row] \n",
    "y_val = y_val[y_val['id'].isin(validation_rows_y)]\n",
    "\n",
    "\n",
    "validation_rows_RF = [row for row in RF_Sub['id'] if 'validation' in row] \n",
    "RF_Sub = RF_Sub[RF_Sub['id'].isin(validation_rows_RF)]\n",
    "validation_rows_RL1 = [row for row in RL1_Sub['id'] if 'validation' in row] \n",
    "RL1_Sub = RL1_Sub[RL1_Sub['id'].isin(validation_rows_RL1)]\n",
    "validation_rows_LSTM = [row for row in LSTM_Sub['id'] if 'validation' in row] \n",
    "LSTM_Sub = LSTM_Sub[LSTM_Sub['id'].isin(validation_rows_LSTM)]\n",
    "test=LSTM_Sub"
   ]
  },
  {
   "cell_type": "code",
   "execution_count": 6,
   "metadata": {
    "colab": {
     "base_uri": "https://localhost:8080/",
     "height": 141
    },
    "colab_type": "code",
    "id": "TR--MUf2Mxn6",
    "outputId": "f926c42f-db48-4868-8b5e-c598aa37067b"
   },
   "outputs": [
    {
     "name": "stdout",
     "output_type": "stream",
     "text": [
      "(30490, 29)\n",
      "(30490, 29)\n",
      "(30490, 29)\n",
      "(30490, 32)\n",
      "(30490, 32)\n",
      "(30490, 32)\n",
      "(30490, 32)\n"
     ]
    }
   ],
   "source": [
    "#Validación de tamaño de los datos\n",
    "\n",
    "print(RF_Sub.shape)\n",
    "print(RL1_Sub.shape)\n",
    "print(LSTM_Sub.shape)\n",
    "\n",
    "print(RF_train.shape)\n",
    "print(RL1_train.shape)\n",
    "print(LSTM_train.shape)\n",
    "print(y_train.shape)"
   ]
  },
  {
   "cell_type": "code",
   "execution_count": 0,
   "metadata": {
    "colab": {},
    "colab_type": "code",
    "id": "KWdiGbXg61Hl"
   },
   "outputs": [],
   "source": [
    "# A continuación se renombran las columnas de los datos\n",
    "\n",
    "#Datos de entrenamiento\n",
    "RL1_train=RL1_train.rename(columns={\"id\": \"id_RL1\"})\n",
    "RF_train=RF_train.rename(columns={\"id\": \"id_RF\"})\n",
    "LSTM_train=LSTM_train.rename(columns={\"id\": \"id_LSTM\"})\n",
    "y_train=y_train.rename(columns={\"id\": \"id_y\"})\n",
    "\n",
    "#Datos de validación\n",
    "RL1_val=RL1_val.rename(columns={\"id\": \"id_RL1\"})\n",
    "RF_val=RF_val.rename(columns={\"id\": \"id_RF\"})\n",
    "LSTM_val=LSTM_val.rename(columns={\"id\": \"id_LSTM\"})\n",
    "y_val=y_val.rename(columns={\"id\": \"id_y\"})\n",
    "\n",
    "#Datos de test\n",
    "RL1_Sub=RL1_Sub.rename(columns={\"id\": \"id_RL1\"})\n",
    "RF_Sub=RF_Sub.rename(columns={\"id\": \"id_RF\"})\n",
    "LSTM_Sub=LSTM_Sub.rename(columns={\"id\": \"id_LSTM\"})"
   ]
  },
  {
   "cell_type": "code",
   "execution_count": 0,
   "metadata": {
    "colab": {},
    "colab_type": "code",
    "id": "sdnVF35E7WZB"
   },
   "outputs": [],
   "source": [
    "#Se cambia la estructura de datos para poder entrenar el modelo\n",
    "\n",
    "\n",
    "#Datos de entrenamiento\n",
    "P_RL1 = RL1_train.melt(id_vars=[\"id_RL1\"], var_name=\"D_RL1\", value_name=\"F_RL1\")\n",
    "P_RF = RF_train.melt(id_vars=[\"id_RF\"], var_name=\"D_RF\", value_name=\"F_RF\")\n",
    "P_LSTM = LSTM_train.melt(id_vars=[\"id_LSTM\"], var_name=\"D_LSTM\", value_name=\"F_LSTM\")\n",
    "y_train= y_train.melt(id_vars=[\"id_y\"], var_name=\"D_y\", value_name=\"demand\")\n",
    "x_train=pd.concat([P_RL1,P_RF,P_LSTM], axis=1, sort=False)\n",
    "RL1_val = RL1_val.melt(id_vars=[\"id_RL1\"], var_name=\"D_RL1\", value_name=\"F_RL1\")\n",
    "RF_val = RF_val.melt(id_vars=[\"id_RF\"], var_name=\"D_RF\", value_name=\"F_RF\")\n",
    "LSTM_val = LSTM_val.melt(id_vars=[\"id_LSTM\"], var_name=\"D_LSTM\", value_name=\"F_LSTM\")\n",
    "y_val= y_val.melt(id_vars=[\"id_y\"], var_name=\"D_y\", value_name=\"demand\")\n",
    "x_val=pd.concat([RL1_val,RF_val,LSTM_val], axis=1, sort=False)\n",
    "x_val_id=x_val['id_RL1']\n",
    "x_val_dia=x_val['D_RL1']\n",
    "\n",
    "#Datos de testeo\n",
    "RF_Sub = RF_Sub.melt(id_vars=[\"id_RF\"], var_name=\"D_RF\", value_name=\"F_RF\")\n",
    "RL1_Sub = RL1_Sub.melt(id_vars=[\"id_RL1\"], var_name=\"D_RL1\", value_name=\"F_RL1\")\n",
    "LSTM_Sub = LSTM_Sub.melt(id_vars=[\"id_LSTM\"], var_name=\"D_LSTM\", value_name=\"F_LSTM\")\n",
    "x_test=pd.concat([RF_Sub,RL1_Sub,LSTM_Sub], axis=1, sort=False)\n",
    "test= test.melt(id_vars=[\"id\"], var_name=\"D_y\", value_name=\"demand\")"
   ]
  },
  {
   "cell_type": "code",
   "execution_count": 9,
   "metadata": {
    "colab": {
     "base_uri": "https://localhost:8080/",
     "height": 70
    },
    "colab_type": "code",
    "id": "tMRh1B6RMru_",
    "outputId": "6e45fbfe-a7c0-43a5-e64f-1fb0125f465b"
   },
   "outputs": [
    {
     "name": "stdout",
     "output_type": "stream",
     "text": [
      "(853720, 3)\n",
      "(853720, 3)\n",
      "(853720, 3)\n"
     ]
    }
   ],
   "source": [
    "#validación de tamaño de datos\n",
    "\n",
    "print(RF_Sub.shape)\n",
    "print(RL1_Sub.shape)\n",
    "print(LSTM_Sub.shape)"
   ]
  },
  {
   "cell_type": "code",
   "execution_count": 0,
   "metadata": {
    "colab": {},
    "colab_type": "code",
    "id": "78zVpKHI9DM_"
   },
   "outputs": [],
   "source": [
    "#Se eliminan columnas que no van a ser utilizadas en el modelo\n",
    "x_train=x_train.drop(['id_RL1','id_RF','id_LSTM','D_RL1','D_RF','D_LSTM'], axis=1)\n",
    "x_val=x_val.drop(['id_RL1','id_RF','id_LSTM','D_RL1','D_RF','D_LSTM'], axis=1)\n",
    "x_test=x_test.drop(['id_RL1','id_RF','id_LSTM','D_RL1','D_RF','D_LSTM'], axis=1)\n",
    "y_train=y_train['demand']\n",
    "y_val=y_val['demand']"
   ]
  },
  {
   "cell_type": "markdown",
   "metadata": {
    "colab_type": "text",
    "id": "FxiDw0LcJPs4"
   },
   "source": [
    "## 3. CONSTRUCCIÓN DEL MODELO"
   ]
  },
  {
   "cell_type": "code",
   "execution_count": 0,
   "metadata": {
    "colab": {},
    "colab_type": "code",
    "id": "GUlm1mSMD4wA"
   },
   "outputs": [],
   "source": [
    "#Se entrena el modelo de Stacking\n",
    "\n",
    "from sklearn.linear_model import LinearRegression\n",
    "x_train=x_train.fillna(0)\n",
    "x_val=x_val.fillna(0)\n",
    "y_val=y_val.fillna(0)\n",
    "reg = LinearRegression().fit(x_train, y_train)"
   ]
  },
  {
   "cell_type": "code",
   "execution_count": 0,
   "metadata": {
    "colab": {},
    "colab_type": "code",
    "id": "jMIMEMnfEKVk"
   },
   "outputs": [],
   "source": [
    "#Se definen las metricas de evaluación\n",
    "\n",
    "def MASE(training_series, testing_series, prediction_series):\n",
    "    \"\"\"\n",
    "    Computes the MEAN-ABSOLUTE SCALED ERROR forcast error for univariate time series prediction.\n",
    "    \n",
    "    See \"Another look at measures of forecast accuracy\", Rob J Hyndman\n",
    "    \n",
    "    parameters:\n",
    "        training_series: the series used to train the model, 1d numpy array\n",
    "        testing_series: the test series to predict, 1d numpy array or float\n",
    "        prediction_series: the prediction of testing_series, 1d numpy array (same size as testing_series) or float\n",
    "        absolute: \"squares\" to use sum of squares and root the result, \"absolute\" to use absolute values.\n",
    "    \n",
    "    \"\"\"\n",
    "    #print \"Needs to be tested.\"\n",
    "    n = training_series.shape[0]\n",
    "    d = np.abs(  np.diff( training_series) ).sum()/(n-1)\n",
    "    \n",
    "    errors = np.abs(testing_series - prediction_series )\n",
    "    return errors.mean()/d\n",
    "\n",
    "\n",
    "def evaluate(model, x_val, y_val):\n",
    "    y_pred=model.predict(x_val)\n",
    "    MSE = mean_squared_error(y_val, y_pred)\n",
    "    r2 =  r2_score(y_val, y_pred)\n",
    "    mase=MASE(y_train, y_val, y_pred)\n",
    "\n",
    "    print('Rendimiento del modelo')\n",
    "    print('Random Forest MSE: {}'.format(MSE))\n",
    "    print('Random Forest R^2: {}'.format(r2))\n",
    "    print('Random Forest MASE: {}'.format(mase))"
   ]
  },
  {
   "cell_type": "markdown",
   "metadata": {
    "colab_type": "text",
    "id": "_O9kxfnBJkNu"
   },
   "source": [
    "## 4. EVALUACIÓN DEL MODELO"
   ]
  },
  {
   "cell_type": "code",
   "execution_count": 16,
   "metadata": {
    "colab": {
     "base_uri": "https://localhost:8080/",
     "height": 88
    },
    "colab_type": "code",
    "id": "aVC-IsIlEhlX",
    "outputId": "aad547e6-f83c-4fe4-ed55-1efcc86e8397"
   },
   "outputs": [
    {
     "name": "stdout",
     "output_type": "stream",
     "text": [
      "Rendimiento del modelo\n",
      "Random Forest MSE: 4.791415250524431\n",
      "Random Forest R^2: 0.6472317397708237\n",
      "Random Forest MASE: 0.5350458309419546\n"
     ]
    }
   ],
   "source": [
    "# Se evalua el rendimiento del modelo\n",
    "evaluate(reg,x_val,y_val)"
   ]
  },
  {
   "cell_type": "markdown",
   "metadata": {
    "colab_type": "text",
    "id": "r1dmIDmNJu1u"
   },
   "source": [
    "## 5. GENERACIÓN DE ARCHIVO DE SUBMISSION\n"
   ]
  },
  {
   "cell_type": "code",
   "execution_count": 0,
   "metadata": {
    "colab": {},
    "colab_type": "code",
    "id": "dNQJfjkiZNMz"
   },
   "outputs": [],
   "source": [
    "# A continuación se lleva a cabo la predicción de intervalo de tiempo de testeo\n",
    "\n",
    "y_pred=reg.predict(x_test)\n",
    "test['demand'] = y_pred\n",
    "test=test.round(2)\n",
    "test=pd.pivot(test, index = 'id', columns = 'D_y', values = 'demand').reset_index()\n",
    "test.columns = ['id'] + ['F' + str(i + 1) for i in range(28)]\n",
    "evaluation_rows = [row for row in submission['id'] if 'evaluation' in row] \n",
    "evaluation = submission[submission['id'].isin(evaluation_rows)]\n",
    "\n",
    "validation = submission[['id']].merge(test, on = 'id')\n",
    "final = pd.concat([validation, evaluation])\n",
    "final.to_csv('submission_stacking.csv', index = False)\n",
    "files.download('submission_stacking.csv')"
   ]
  }
 ],
 "metadata": {
  "colab": {
   "collapsed_sections": [],
   "name": "Stacking_F.ipynb",
   "provenance": []
  },
  "kernelspec": {
   "display_name": "Python 3",
   "language": "python",
   "name": "python3"
  },
  "language_info": {
   "codemirror_mode": {
    "name": "ipython",
    "version": 3
   },
   "file_extension": ".py",
   "mimetype": "text/x-python",
   "name": "python",
   "nbconvert_exporter": "python",
   "pygments_lexer": "ipython3",
   "version": "3.7.6"
  }
 },
 "nbformat": 4,
 "nbformat_minor": 1
}
